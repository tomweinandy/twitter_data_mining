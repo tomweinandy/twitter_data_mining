{
 "cells": [
  {
   "cell_type": "code",
   "execution_count": null,
   "metadata": {},
   "outputs": [],
   "source": [
    "\"\"\"\n",
    "Title: Twitter Data Mining and Sentinent Analysis in Python\n",
    "Author: Thomas J. Weinandy\n",
    "Date: 11 November 2019\n",
    "Version: 1.0\n",
    "Availability: https://github.com/tomweinandy/twitter_data_mining\n",
    "\n",
    "Table of Contents:\n",
    " 1) Import essential functions, credentials for accessing Twitter API\n",
    " 2) Define auxiliaray functions\n",
    " 3) Define process_tweet()\n",
    " 4) Create csv file\n",
    " 5) State search criteria\n",
    " 6) Run search and save results to csv\n",
    "\"\"\""
   ]
  },
  {
   "cell_type": "code",
   "execution_count": 1,
   "metadata": {},
   "outputs": [],
   "source": [
    "\"\"\" 1) Import essential functions, credentials for accessing Twitter API \"\"\"\n",
    "\n",
    "from twython import Twython  \n",
    "import pandas as pd\n",
    "import numpy as np\n",
    "import twitter_credentials\n",
    "\n",
    "api = Twython(twitter_credentials.CONSUMER_KEY, twitter_credentials.CONSUMER_SECRET)"
   ]
  },
  {
   "cell_type": "code",
   "execution_count": 2,
   "metadata": {},
   "outputs": [],
   "source": [
    "\"\"\" 2) Define auxiliary functions \"\"\"\n",
    "\n",
    "def get_text_search(tweet):       \n",
    "    # The text of tweets >140 characters is truncated, so this retreives the full text\n",
    "    # Try for extended text of an original tweet, if RT'd (REST API)\n",
    "    try: text = tweet['retweeted_status']['full_text']\n",
    "    except:\n",
    "        # Try for extended text of an original tweet (REST API)\n",
    "        try: text = tweet['full_text']\n",
    "        except:\n",
    "            # Try for basic text of original tweet if RT'd \n",
    "            try: text = tweet['retweeted_status']['text']\n",
    "            except:\n",
    "                # Try for basic text of an original tweet\n",
    "                try: text = tweet['text']\n",
    "                except: \n",
    "                    # Nothing left to check for\n",
    "                    text = ''\n",
    "    return text\n",
    "\n",
    "def get_reply_id(tweet):\n",
    "    try: return tweet['in_reply_to_status_id']\n",
    "    except: return ''\n",
    "    \n",
    "def get_rt_id(tweet):\n",
    "    try: return tweet['retweeted_status']['id']\n",
    "    except: return ''\n",
    "\n",
    "sources = ['Android','iPhone','iPad','Web App','Facebook','TweetDeck','Hootsuite','Web Client','Media Studio','Ads Composer','SocialFlow','Sprout Social','Sprinklr']           \n",
    "def sourcery(tweet):\n",
    "    for source in sources:\n",
    "        if source in tweet:\n",
    "            return source\n",
    "    else:\n",
    "        return 'Other'\n",
    "\n",
    "from nltk.sentiment.vader import SentimentIntensityAnalyzer\n",
    "from textblob import TextBlob \n",
    "\n",
    "def sentiment1(tweet_text):\n",
    "    return TextBlob(tweet_text).sentiment.polarity\n",
    "\n",
    "def subjectivity1(tweet_text):\n",
    "    return TextBlob(tweet_text).sentiment.subjectivity\n",
    "\n",
    "def sentiment2(tweet_text):\n",
    "    return SentimentIntensityAnalyzer().polarity_scores(tweet_text)['compound']"
   ]
  },
  {
   "cell_type": "code",
   "execution_count": 3,
   "metadata": {},
   "outputs": [],
   "source": [
    "\"\"\" 3) Define process_tweet() \"\"\"\n",
    "\n",
    "def process_tweet(tweet):  \n",
    "    d = {}\n",
    "    text = get_text_search(tweet)\n",
    "    d['id'] = tweet['id']\n",
    "    d['created_at'] = tweet['created_at']\n",
    "    d['screen_name'] = tweet['user']['screen_name']\n",
    "    d['followers_count'] = tweet['user']['followers_count']\n",
    "    d['friends_count'] = tweet['user']['friends_count']\n",
    "    d['statuses_count'] = tweet['user']['statuses_count']\n",
    "    d['user_created_at'] = tweet['user']['created_at']\n",
    "    d['location'] = tweet['user']['location']\n",
    "    d['lang'] = tweet['lang']\n",
    "    d['source'] = sourcery(tweet['source'])\n",
    "    d['in_reply_to_status_id'] = get_reply_id(tweet)\n",
    "    d['retweeted_status'] = get_rt_id(tweet) \n",
    "    d['favorite_count'] = tweet['favorite_count']\n",
    "    d['retweet_count'] = tweet['retweet_count']\n",
    "    d['sentiment1'] = sentiment1(text)\n",
    "    d['sentiment2'] = sentiment2(text)\n",
    "    d['subjectivity1'] = subjectivity1(text)\n",
    "    d['hashtags'] = [hashtag['text'] for hashtag in tweet['entities']['hashtags']]\n",
    "    d['bio'] = tweet['user']['description']\n",
    "    d['text'] = text\n",
    "    return d"
   ]
  },
  {
   "cell_type": "code",
   "execution_count": 9,
   "metadata": {},
   "outputs": [],
   "source": [
    "\"\"\" 4) Create csv file \"\"\"\n",
    "# Create headers (only occurs if file exists)\n",
    "import os.path\n",
    "import csv\n",
    "\n",
    "my_file = 'tweet_data.csv'\n",
    "\n",
    "# os.remove(my_file)      ### remove comment to delete old file and create a new one (then comment out to prevent accidential deletion) ###\n",
    "\n",
    "headers = ['id','created_at','screen_name','followers_count','friends_count','statuses_count','user_created_at','location','lang','source','in_reply_to_status_id','retweeted_status','favorite_count','retweet_count','sentiment1','sentiment2','subjectivity1','hashtags','bio','text'] #,'hashtags'\n",
    "if os.path.exists(my_file)==False:\n",
    "    with open(my_file, 'x') as outcsv:\n",
    "        writer = csv.writer(outcsv)\n",
    "        writer.writerow(headers)"
   ]
  },
  {
   "cell_type": "code",
   "execution_count": 10,
   "metadata": {},
   "outputs": [],
   "source": [
    "\"\"\" 5) State search criteria \"\"\"\n",
    "\n",
    "QUERY = 'Big Data OR #bigdata'\n",
    "SAVE_RATE = 1\n",
    "MAX_ATTEMPTS = 1000\n",
    "COUNT_OF_TWEETS_TO_BE_FETCHED = 1000"
   ]
  },
  {
   "cell_type": "code",
   "execution_count": 11,
   "metadata": {
    "scrolled": true
   },
   "outputs": [
    {
     "name": "stdout",
     "output_type": "stream",
     "text": [
      "Start searching according to query: Big Data OR #bigdata\n",
      "Tweets: 0 At: 2019-11-11 07:52:50.639640 Search id: 1193912806468411393 From: Mon Nov 11 15:26:09 +0000 2019 \n",
      "Tweets: 998 At: 2019-11-11 07:54:02.292344 Search id: 1193848643805073407 From: Mon Nov 11 11:11:11 +0000 2019 \n",
      "Stopped at 2019-11-11 07:54:07.315924 on next_max_id 1193848643805073407 with tweet 1193848643805073408 from Mon Nov 11 11:11:11 +0000 2019\n"
     ]
    },
    {
     "data": {
      "text/plain": [
       "0"
      ]
     },
     "execution_count": 11,
     "metadata": {},
     "output_type": "execute_result"
    }
   ],
   "source": [
    "\"\"\" 6) Run search and save results to csv \"\"\"\n",
    "import time\n",
    "from datetime import datetime\n",
    "\n",
    "print('Start searching according to query:',QUERY)\n",
    "j = -1\n",
    "\n",
    "for i in range(0,MAX_ATTEMPTS):\n",
    "    tweets_len = len(pd.read_csv(my_file))\n",
    "\n",
    "    if(COUNT_OF_TWEETS_TO_BE_FETCHED < tweets_len):    # check if this should be <=\n",
    "        break \n",
    "\n",
    "    # STEP 1: Query Twitter\n",
    "    if(0 == i):\n",
    "        # Query twitter for data. \n",
    "        results = api.search(q=QUERY,count='100',lang='en',tweet_mode='extended')\n",
    "    else:\n",
    "        # After the first call we should have max_id from result of previous call. Pass it in query.\n",
    "        results = api.search(q=QUERY,count='100',lang='en',tweet_mode='extended',max_id=next_max_id)\n",
    "\n",
    "    # STEP 2: Save the returned tweets according to the SAVE_RATE\n",
    "    j += 1\n",
    "    if float(j*SAVE_RATE).is_integer()==True:\n",
    "        for result in results['statuses']:\n",
    "            tw = process_tweet(result)\n",
    "            twist=[]\n",
    "\n",
    "            for key in list(tw):\n",
    "                twist.append(tw[key])\n",
    "\n",
    "            with open(my_file, 'a') as file:\n",
    "                writer = csv.writer(file)\n",
    "                writer.writerow(twist)\n",
    "\n",
    "    # STEP 3: Get the next max_id\n",
    "    try:        \n",
    "        # Parse the data returned to get max_id to be passed in consequent call.\n",
    "        next_results_url_params = results['search_metadata']['next_results']\n",
    "        next_max_id = next_results_url_params.split('max_id=')[1].split('&')[0]\n",
    "\n",
    "        # prints status and adds time according to Twitter rate limits https://developer.twitter.com/en/docs/basics/rate-limits  \n",
    "        if float(j*SAVE_RATE/10).is_integer()==True:\n",
    "            print('Tweets:',tweets_len,'At:',datetime.now(),'Search id:',next_max_id,'From:',tw['created_at'],'')\n",
    "        time.sleep(5)\n",
    "\n",
    "    except:\n",
    "        # No more next pages.\n",
    "        break\n",
    "\n",
    "print('Stopped at',datetime.now(),'on next_max_id',next_max_id,'with tweet',tw['id'],'from',tw['created_at'])\n",
    "beep = lambda x: os.system(\"echo -n '\\a';sleep 0.2;\" * x)\n",
    "beep(3)   # Play alert upon completion"
   ]
  },
  {
   "cell_type": "code",
   "execution_count": null,
   "metadata": {},
   "outputs": [],
   "source": []
  },
  {
   "cell_type": "code",
   "execution_count": 8,
   "metadata": {},
   "outputs": [],
   "source": [
    "# some sample tweets for testing\n",
    "\n",
    "t = {'created_at': 'Fri Oct 18 00:59:13 +0000 2019', 'id': 1184997328572342272, 'id_str': '1184997328572342272', 'text': '$spy bears start to realize that they made a huge mistake this year', 'source': '<a href=\"http://twitter.com/download/iphone\" rel=\"nofollow\">Twitter for iPhone</a>', 'truncated': False, 'in_reply_to_status_id': None, 'in_reply_to_status_id_str': None, 'in_reply_to_user_id': None, 'in_reply_to_user_id_str': None, 'in_reply_to_screen_name': None, 'user': {'id': 856607164533809155, 'id_str': '856607164533809155', 'name': 'WallSt Prophet', 'screen_name': 'TheProphetGod', 'location': None, 'url': None, 'description': None, 'translator_type': 'none', 'protected': False, 'verified': False, 'followers_count': 428, 'friends_count': 241, 'listed_count': 6, 'favourites_count': 2509, 'statuses_count': 6115, 'created_at': 'Mon Apr 24 20:33:57 +0000 2017', 'utc_offset': None, 'time_zone': None, 'geo_enabled': False, 'lang': None, 'contributors_enabled': False, 'is_translator': False, 'profile_background_color': 'F5F8FA', 'profile_background_image_url': '', 'profile_background_image_url_https': '', 'profile_background_tile': False, 'profile_link_color': '1DA1F2', 'profile_sidebar_border_color': 'C0DEED', 'profile_sidebar_fill_color': 'DDEEF6', 'profile_text_color': '333333', 'profile_use_background_image': True, 'profile_image_url': 'http://pbs.twimg.com/profile_images/1013926572946948096/x6mzBdV1_normal.jpg', 'profile_image_url_https': 'https://pbs.twimg.com/profile_images/1013926572946948096/x6mzBdV1_normal.jpg', 'default_profile': True, 'default_profile_image': False, 'following': None, 'follow_request_sent': None, 'notifications': None}, 'geo': None, 'coordinates': None, 'place': None, 'contributors': None, 'is_quote_status': False, 'quote_count': 0, 'reply_count': 0, 'retweet_count': 0, 'favorite_count': 0, 'entities': {'hashtags': [], 'urls': [], 'user_mentions': [], 'symbols': [{'text': 'spy', 'indices': [0, 4]}]}, 'favorited': False, 'retweeted': False, 'filter_level': 'low', 'lang': 'en', 'timestamp_ms': '1571360353974'}\n",
    "t_rt = {'created_at': 'Mon Oct 28 17:50:01 +0000 2019', 'id': 1188875583461253123, 'id_str': '1188875583461253123', 'full_text': \"RT @NatashaBertrand: Gen. Milley, chairman of the Joint Chiefs of Staff, tells reporters he doesn't know where Trump got his information th…\", 'truncated': False, 'display_text_range': [0, 140], 'entities': {'hashtags': [], 'symbols': [], 'user_mentions': [{'screen_name': 'NatashaBertrand', 'name': 'Natasha Bertrand', 'id': 372536101, 'id_str': '372536101', 'indices': [3, 19]}], 'urls': []}, 'metadata': {'iso_language_code': 'en', 'result_type': 'recent'}, 'source': '<a href=\"http://twitter.com/download/android\" rel=\"nofollow\">Twitter for Android</a>', 'in_reply_to_status_id': None, 'in_reply_to_status_id_str': None, 'in_reply_to_user_id': None, 'in_reply_to_user_id_str': None, 'in_reply_to_screen_name': None, 'user': {'id': 1008894580622876672, 'id_str': '1008894580622876672', 'name': 'Isi Esca', 'screen_name': 'EscaIsi', 'location': '', 'description': '', 'url': None, 'entities': {'description': {'urls': []}}, 'protected': False, 'followers_count': 21, 'friends_count': 382, 'listed_count': 0, 'created_at': 'Tue Jun 19 02:09:47 +0000 2018', 'favourites_count': 404, 'utc_offset': None, 'time_zone': None, 'geo_enabled': False, 'verified': False, 'statuses_count': 216, 'lang': None, 'contributors_enabled': False, 'is_translator': False, 'is_translation_enabled': False, 'profile_background_color': 'F5F8FA', 'profile_background_image_url': None, 'profile_background_image_url_https': None, 'profile_background_tile': False, 'profile_image_url': 'http://abs.twimg.com/sticky/default_profile_images/default_profile_normal.png', 'profile_image_url_https': 'https://abs.twimg.com/sticky/default_profile_images/default_profile_normal.png', 'profile_link_color': '1DA1F2', 'profile_sidebar_border_color': 'C0DEED', 'profile_sidebar_fill_color': 'DDEEF6', 'profile_text_color': '333333', 'profile_use_background_image': True, 'has_extended_profile': False, 'default_profile': True, 'default_profile_image': True, 'following': None, 'follow_request_sent': None, 'notifications': None, 'translator_type': 'none'}, 'geo': None, 'coordinates': None, 'place': None, 'contributors': None, 'retweeted_status': {'created_at': 'Mon Oct 28 17:25:59 +0000 2019', 'id': 1188869533076992000, 'id_str': '1188869533076992000', 'full_text': 'Gen. Milley, chairman of the Joint Chiefs of Staff, tells reporters he doesn\\'t know where Trump got his information that Baghdadi was \"whimpering and crying\" when he died. \"I don\\'t know what the source of that was.\"', 'truncated': False, 'display_text_range': [0, 215], 'entities': {'hashtags': [], 'symbols': [], 'user_mentions': [], 'urls': []}, 'metadata': {'iso_language_code': 'en', 'result_type': 'recent'}, 'source': '<a href=\"https://mobile.twitter.com\" rel=\"nofollow\">Twitter Web App</a>', 'in_reply_to_status_id': None, 'in_reply_to_status_id_str': None, 'in_reply_to_user_id': None, 'in_reply_to_user_id_str': None, 'in_reply_to_screen_name': None, 'user': {'id': 372536101, 'id_str': '372536101', 'name': 'Natasha Bertrand', 'screen_name': 'NatashaBertrand', 'location': 'Washington, DC', 'description': 'National security correspondent @politico. @MSNBC contributor. Send tips: nbertrand@politico.com nbertrand@protonmail.com. DM for Signal.', 'url': 'https://t.co/e0ItgsD6Co', 'entities': {'url': {'urls': [{'url': 'https://t.co/e0ItgsD6Co', 'expanded_url': 'https://www.politico.com/staff/natasha-bertrand', 'display_url': 'politico.com/staff/natasha-…', 'indices': [0, 23]}]}, 'description': {'urls': []}}, 'protected': False, 'followers_count': 542153, 'friends_count': 4809, 'listed_count': 5303, 'created_at': 'Mon Sep 12 23:21:14 +0000 2011', 'favourites_count': 32855, 'utc_offset': None, 'time_zone': None, 'geo_enabled': False, 'verified': True, 'statuses_count': 21721, 'lang': None, 'contributors_enabled': False, 'is_translator': False, 'is_translation_enabled': False, 'profile_background_color': 'C6E2EE', 'profile_background_image_url': 'http://abs.twimg.com/images/themes/theme2/bg.gif', 'profile_background_image_url_https': 'https://abs.twimg.com/images/themes/theme2/bg.gif', 'profile_background_tile': False, 'profile_image_url': 'http://pbs.twimg.com/profile_images/1156185168916492293/yDeuvV4S_normal.jpg', 'profile_image_url_https': 'https://pbs.twimg.com/profile_images/1156185168916492293/yDeuvV4S_normal.jpg', 'profile_banner_url': 'https://pbs.twimg.com/profile_banners/372536101/1566394716', 'profile_link_color': '1F97C7', 'profile_sidebar_border_color': 'C6E2EE', 'profile_sidebar_fill_color': 'DAECF4', 'profile_text_color': '663B12', 'profile_use_background_image': True, 'has_extended_profile': False, 'default_profile': False, 'default_profile_image': False, 'following': None, 'follow_request_sent': None, 'notifications': None, 'translator_type': 'regular'}, 'geo': None, 'coordinates': None, 'place': None, 'contributors': None, 'is_quote_status': False, 'retweet_count': 1426, 'favorite_count': 3424, 'favorited': False, 'retweeted': False, 'lang': 'en'}, 'is_quote_status': False, 'retweet_count': 1426, 'favorite_count': 0, 'favorited': False, 'retweeted': False, 'lang': 'en'}\n",
    "t_query = {'statuses': [{'created_at': 'Wed Oct 23 00:14:01 +0000 2019',    'id': 1186797891257397248,    'id_str': '1186797891257397248',    'text': '@shwood I picked the ace because I saw the movie \"The Princess Bride\"😅',    'truncated': False,    'entities': {'hashtags': [{'text': 'india', 'indices': [95, 101]}, {'text': 'english', 'indices': [119, 127]}, {'text': 'online', 'indices': [181, 188]}, {'text': 'altbajali', 'indices': [195, 205]}, {'text': 'zee5', 'indices': [206, 211]}],     'symbols': [],     'user_mentions': [{'screen_name': 'shwood',       'name': 'Brian Brushwood',       'id': 14645160,       'id_str': '14645160',       'indices': [0, 7]}],     'urls': []},    'metadata': {'iso_language_code': 'en', 'result_type': 'recent'},    'source': '<a href=\"http://twitter.com/download/android\" rel=\"nofollow\">Twitter for Android</a>',    'in_reply_to_status_id': 1186793271571431426,    'in_reply_to_status_id_str': '1186793271571431426',    'in_reply_to_user_id': 14645160,    'in_reply_to_user_id_str': '14645160',    'in_reply_to_screen_name': 'shwood',    'user': {'id': 14481210,     'id_str': '14481210',     'name': 'Theoiv',     'screen_name': 'theoiv',     'location': 'Austin, TX',     'description': 'loving life after the military. loving each day i earned through service to my country while in the US NAVY. Proudly Retired. A husband of 20+ years and a Dad',     'url': None,     'entities': {'description': {'urls': []}},     'protected': False,     'followers_count': 112,     'friends_count': 386,     'listed_count': 3,     'created_at': 'Tue Apr 22 22:01:43 +0000 2008',     'favourites_count': 3152,     'utc_offset': None,     'time_zone': None,     'geo_enabled': True,     'verified': False,     'statuses_count': 926,     'lang': None,     'contributors_enabled': False,     'is_translator': False,     'is_translation_enabled': False,     'profile_background_color': '000000',     'profile_background_image_url': 'http://abs.twimg.com/images/themes/theme5/bg.gif',     'profile_background_image_url_https': 'https://abs.twimg.com/images/themes/theme5/bg.gif',     'profile_background_tile': False,     'profile_image_url': 'http://pbs.twimg.com/profile_images/1084638901791346688/errTiEjB_normal.jpg',     'profile_image_url_https': 'https://pbs.twimg.com/profile_images/1084638901791346688/errTiEjB_normal.jpg',     'profile_banner_url': 'https://pbs.twimg.com/profile_banners/14481210/1487056356',     'profile_link_color': '3B94D9',     'profile_sidebar_border_color': '000000',     'profile_sidebar_fill_color': '000000',     'profile_text_color': '000000',     'profile_use_background_image': False,     'has_extended_profile': True,     'default_profile': False,     'default_profile_image': False,     'following': None,     'follow_request_sent': None,     'notifications': None,     'translator_type': 'none'},    'geo': None,    'coordinates': None,    'place': None,    'contributors': None,    'is_quote_status': False,    'retweet_count': 0,    'favorite_count': 0,    'favorited': False,    'retweeted': False,    'lang': 'en'},   {'created_at': 'Wed Oct 23 00:13:40 +0000 2019',    'id': 1186797804817006592,    'id_str': '1186797804817006592',    'text': 'Hey, @BuckSexton, Bernie sounds like the bishop in The Princess Bride in his little \"If you are prepared...\" tirade… https://t.co/uCC9d0UlNG',    'truncated': True,    'entities': {'hashtags': [],     'symbols': [],     'user_mentions': [{'screen_name': 'BuckSexton',       'name': 'Buck Sexton',       'id': 334715818,       'id_str': '334715818',       'indices': [5, 16]}],     'urls': [{'url': 'https://t.co/uCC9d0UlNG',       'expanded_url': 'https://twitter.com/i/web/status/1186797804817006592',       'display_url': 'twitter.com/i/web/status/1…',       'indices': [117, 140]}]},    'metadata': {'iso_language_code': 'en', 'result_type': 'recent'},    'source': '<a href=\"http://twitter.com/download/android\" rel=\"nofollow\">Twitter for Android</a>',    'in_reply_to_status_id': None,    'in_reply_to_status_id_str': None,    'in_reply_to_user_id': None,    'in_reply_to_user_id_str': None,    'in_reply_to_screen_name': None,    'user': {'id': 1482860016,     'id_str': '1482860016',     'name': 'J.J. Sawyer Phillips',     'screen_name': 'JJSawyerPhillip',     'location': '',     'description': \"Writing is not an occupation, it's not a job; writing is a calling, an identity, a beautiful madness that you never want to let go.\",     'url': None,     'entities': {'description': {'urls': []}},     'protected': False,     'followers_count': 102,     'friends_count': 412,     'listed_count': 7,     'created_at': 'Tue Jun 04 18:01:44 +0000 2013',     'favourites_count': 13840,     'utc_offset': None,     'time_zone': None,     'geo_enabled': False,     'verified': False,     'statuses_count': 3987,     'lang': None,     'contributors_enabled': False,     'is_translator': False,     'is_translation_enabled': False,     'profile_background_color': 'C0DEED',     'profile_background_image_url': 'http://abs.twimg.com/images/themes/theme1/bg.png',     'profile_background_image_url_https': 'https://abs.twimg.com/images/themes/theme1/bg.png',     'profile_background_tile': False,     'profile_image_url': 'http://pbs.twimg.com/profile_images/378800000088508694/477f6cee5ccdf9c85b8029aed8882fe6_normal.jpeg',     'profile_image_url_https': 'https://pbs.twimg.com/profile_images/378800000088508694/477f6cee5ccdf9c85b8029aed8882fe6_normal.jpeg',     'profile_banner_url': 'https://pbs.twimg.com/profile_banners/1482860016/1398790435',     'profile_link_color': '1DA1F2',     'profile_sidebar_border_color': 'C0DEED',     'profile_sidebar_fill_color': 'DDEEF6',     'profile_text_color': '333333',     'profile_use_background_image': True,     'has_extended_profile': False,     'default_profile': True,     'default_profile_image': False,     'following': None,     'follow_request_sent': None,     'notifications': None,     'translator_type': 'none'},    'geo': None,    'coordinates': None,    'place': None,    'contributors': None,    'is_quote_status': False,    'retweet_count': 0,    'favorite_count': 0,    'favorited': False,    'retweeted': False,    'lang': 'en'}],  'search_metadata': {'completed_in': 0.016,   'max_id': 1186797891257397248,   'max_id_str': '1186797891257397248',   'next_results': '?max_id=1186797804817006591&q=The%20Princess%20Bride&count=2&include_entities=1',   'query': 'The+Princess+Bride',   'refresh_url': '?since_id=1186797891257397248&q=The%20Princess%20Bride&include_entities=1',   'count': 2,   'since_id': 0,   'since_id_str': '0'}}"
   ]
  },
  {
   "cell_type": "code",
   "execution_count": null,
   "metadata": {},
   "outputs": [],
   "source": []
  }
 ],
 "metadata": {
  "kernelspec": {
   "display_name": "Python 3",
   "language": "python",
   "name": "python3"
  },
  "language_info": {
   "codemirror_mode": {
    "name": "ipython",
    "version": 3
   },
   "file_extension": ".py",
   "mimetype": "text/x-python",
   "name": "python",
   "nbconvert_exporter": "python",
   "pygments_lexer": "ipython3",
   "version": "3.6.8"
  }
 },
 "nbformat": 4,
 "nbformat_minor": 2
}
